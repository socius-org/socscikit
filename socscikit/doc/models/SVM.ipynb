{
 "cells": [
  {
   "cell_type": "markdown",
   "metadata": {},
   "source": [
    "# SVM"
   ]
  },
  {
   "cell_type": "markdown",
   "metadata": {},
   "source": [
    "```{svm} Summary  \n",
    ":class: tip\n",
    "\n",
    "**Overview**\n",
    "Support Vector Machine (SVM) is a powerful tool in the field of machine learning, specifically designed for solving classification problems. In simple terms, it helps computers learn how to categorize things into different groups. These groups can be as diverse as spam and non-spam emails, identifying whether an image contains a cat or a dog, or predicting whether a financial transaction is fraudulent or not.\n",
    "\n",
    "Imagine you have a set of points on a graph, each belonging to one of two categories. SVM aims to draw a line (or hyperplane in higher dimensions) that separates these points in such a way that there is as much space as possible between the line and the nearest data points from each category. This space is known as the margin, and the data points closest to the line are crucial—these are called support vectors.\n",
    "\n",
    "\n",
    "**Evaluation**\n",
    "While SVM is a powerful tool, it's not a one-size-fits-all solution. Here are some considerations:\n",
    "\n",
    "- Higher-Dimensional Spaces\n",
    "SVM shines when dealing with problems that involve a large number of features or dimensions compared to the amount of data available. It's like having many different characteristics to consider when making a decision.\n",
    "\n",
    "- Clear Separation\n",
    "For SVM to work well, there should be a clear gap or hyperplane that can effectively separate the data points. If the data is messy and doesn't show a distinct boundary, SVM might struggle.\n",
    "\n",
    "- Computational Complexity\n",
    "SVM can be computationally intensive, especially for large datasets. If you have a massive amount of data, other algorithms might be more efficient.\n",
    "\n",
    "```"
   ]
  },
  {
   "cell_type": "markdown",
   "metadata": {},
   "source": [
    "```{contents}\n",
    ":local:\n",
    "```"
   ]
  },
  {
   "cell_type": "markdown",
   "metadata": {},
   "source": [
    "## 📋 Introduction \n",
    "\n",
    "Support Vector Machines were introduced by Vladimir N. Vapnik and his colleagues in the 1960s and 1970s. The method gained popularity for its robustness in handling classification problems."
   ]
  },
  {
   "cell_type": "markdown",
   "metadata": {},
   "source": [
    "## How it works \n",
    "\n",
    "### Forming the Hyperplane\n",
    "The first step involves finding a line (or hyperplane) that best separates the different categories. This hyperplane is like a decision boundary; it helps the machine distinguish between the two classes. The goal is not just to find any hyperplane but to find the one with the maximum margin.\n",
    "\n",
    "### Maximizing the Margin\n",
    "The margin is the distance between the decision boundary (hyperplane) and the nearest data point from each category. SVM aims to maximize this margin, as a larger margin provides more robust and reliable classification.\n",
    "\n",
    "### Kernel Trick\n",
    "To handle more complex scenarios where a simple line won't suffice, SVM uses something called a kernel. Think of it as a way to transform the data into a higher-dimensional space, making it easier to find a hyperplane that effectively separates the categories. The choice of kernel depends on the nature of the problem—linear for straight-line problems and non-linear (like RBF) for more intricate patterns.\n",
    "\n",
    "### Kernelized Ridge Regression\n",
    "In essence, SVM can be seen as a fancier version of ridge regression, a technique used in statistics. The modification lies in how SVM adjusts the loss function to accommodate the specific characteristics of SVM."
   ]
  },
  {
   "cell_type": "code",
   "execution_count": 2,
   "metadata": {},
   "outputs": [],
   "source": [
    "from soscikit import svm\n",
    "\n",
    "# Create an SVM model\n",
    "model = svm()"
   ]
  }
 ],
 "metadata": {
  "kernelspec": {
   "display_name": "base",
   "language": "python",
   "name": "python3"
  },
  "language_info": {
   "codemirror_mode": {
    "name": "ipython",
    "version": 3
   },
   "file_extension": ".py",
   "mimetype": "text/x-python",
   "name": "python",
   "nbconvert_exporter": "python",
   "pygments_lexer": "ipython3",
   "version": "3.10.7"
  }
 },
 "nbformat": 4,
 "nbformat_minor": 2
}
