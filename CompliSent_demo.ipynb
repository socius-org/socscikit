{
 "cells": [
  {
   "cell_type": "code",
   "execution_count": 1,
   "metadata": {},
   "outputs": [
    {
     "ename": "FileNotFoundError",
     "evalue": "[Errno 2] No such file or directory: 'CompliSent/lexicon_dictionary/MASTER/MASTER_v2022.pickle'",
     "output_type": "error",
     "traceback": [
      "\u001b[1;31m---------------------------------------------------------------------------\u001b[0m",
      "\u001b[1;31mFileNotFoundError\u001b[0m                         Traceback (most recent call last)",
      "\u001b[1;32mc:\\Users\\nicks\\Desktop\\socscikit\\CompliSent_demo.ipynb Cell 1\u001b[0m in \u001b[0;36m<cell line: 1>\u001b[1;34m()\u001b[0m\n\u001b[1;32m----> <a href='vscode-notebook-cell:/c%3A/Users/nicks/Desktop/socscikit/CompliSent_demo.ipynb#W0sZmlsZQ%3D%3D?line=0'>1</a>\u001b[0m \u001b[39mfrom\u001b[39;00m \u001b[39msocscikit\u001b[39;00m \u001b[39mimport\u001b[39;00m CompliSent\n",
      "File \u001b[1;32mc:\\Users\\nicks\\Desktop\\socscikit\\socscikit\\__init__.py:1\u001b[0m, in \u001b[0;36m<module>\u001b[1;34m\u001b[0m\n\u001b[1;32m----> 1\u001b[0m \u001b[39mfrom\u001b[39;00m \u001b[39msocscikit\u001b[39;00m \u001b[39mimport\u001b[39;00m CompliSent\n",
      "File \u001b[1;32mc:\\Users\\nicks\\Desktop\\socscikit\\socscikit\\CompliSent.py:16\u001b[0m, in \u001b[0;36m<module>\u001b[1;34m\u001b[0m\n\u001b[0;32m     13\u001b[0m         \u001b[39mreturn\u001b[39;00m lex_dict\n\u001b[0;32m     15\u001b[0m lexicon \u001b[39m=\u001b[39m lexicon()\n\u001b[1;32m---> 16\u001b[0m \u001b[39mprint\u001b[39m(lexicon\u001b[39m.\u001b[39;49mdictionary(\u001b[39m\"\u001b[39;49m\u001b[39mMASTER_v2022\u001b[39;49m\u001b[39m\"\u001b[39;49m))\n",
      "File \u001b[1;32mc:\\Users\\nicks\\Desktop\\socscikit\\socscikit\\CompliSent.py:10\u001b[0m, in \u001b[0;36mlexicon.dictionary\u001b[1;34m(self, idx)\u001b[0m\n\u001b[0;32m      8\u001b[0m \u001b[39mdef\u001b[39;00m \u001b[39mdictionary\u001b[39m(\u001b[39mself\u001b[39m, idx:\u001b[39mstr\u001b[39m):\n\u001b[0;32m      9\u001b[0m     \u001b[39mif\u001b[39;00m idx \u001b[39m==\u001b[39m \u001b[39m'\u001b[39m\u001b[39mMASTER_v2022\u001b[39m\u001b[39m'\u001b[39m:              \n\u001b[1;32m---> 10\u001b[0m         \u001b[39mwith\u001b[39;00m \u001b[39mopen\u001b[39;49m(\u001b[39m'\u001b[39;49m\u001b[39mCompliSent/lexicon_dictionary/MASTER/MASTER_v2022.pickle\u001b[39;49m\u001b[39m'\u001b[39;49m, \u001b[39m'\u001b[39;49m\u001b[39mrb\u001b[39;49m\u001b[39m'\u001b[39;49m) \u001b[39mas\u001b[39;00m handle: \n\u001b[0;32m     11\u001b[0m             lex_dict \u001b[39m=\u001b[39m pickle\u001b[39m.\u001b[39mload(handle)\n\u001b[0;32m     13\u001b[0m     \u001b[39mreturn\u001b[39;00m lex_dict\n",
      "\u001b[1;31mFileNotFoundError\u001b[0m: [Errno 2] No such file or directory: 'CompliSent/lexicon_dictionary/MASTER/MASTER_v2022.pickle'"
     ]
    }
   ],
   "source": [
    "from socscikit import CompliSent"
   ]
  },
  {
   "cell_type": "code",
   "execution_count": 2,
   "metadata": {},
   "outputs": [
    {
     "ename": "FileNotFoundError",
     "evalue": "[Errno 2] No such file or directory: 'c:\\\\Users\\\\nicks\\\\Desktop\\\\socscikit\\\\CompliSent\\\\lexicon_dictionary\\\\MASTER\\\\MASTER_v2022.pickle'",
     "output_type": "error",
     "traceback": [
      "\u001b[1;31m---------------------------------------------------------------------------\u001b[0m",
      "\u001b[1;31mFileNotFoundError\u001b[0m                         Traceback (most recent call last)",
      "\u001b[1;32mc:\\Users\\nicks\\Desktop\\socscikit\\CompliSent_demo.ipynb Cell 2\u001b[0m in \u001b[0;36m<cell line: 2>\u001b[1;34m()\u001b[0m\n\u001b[0;32m      <a href='vscode-notebook-cell:/c%3A/Users/nicks/Desktop/socscikit/CompliSent_demo.ipynb#W1sZmlsZQ%3D%3D?line=0'>1</a>\u001b[0m lexicon \u001b[39m=\u001b[39m CompliSent\u001b[39m.\u001b[39mlexicon()\n\u001b[1;32m----> <a href='vscode-notebook-cell:/c%3A/Users/nicks/Desktop/socscikit/CompliSent_demo.ipynb#W1sZmlsZQ%3D%3D?line=1'>2</a>\u001b[0m lex_dict \u001b[39m=\u001b[39m lexicon\u001b[39m.\u001b[39;49mdictionary(\u001b[39m'\u001b[39;49m\u001b[39mMASTER_v2022\u001b[39;49m\u001b[39m'\u001b[39;49m)\n",
      "File \u001b[1;32mc:\\Users\\nicks\\Desktop\\socscikit\\socscikit\\CompliSent.py:10\u001b[0m, in \u001b[0;36mlexicon.dictionary\u001b[1;34m(self, idx)\u001b[0m\n\u001b[0;32m      8\u001b[0m \u001b[39mdef\u001b[39;00m \u001b[39mdictionary\u001b[39m(\u001b[39mself\u001b[39m, idx:\u001b[39mstr\u001b[39m):\n\u001b[0;32m      9\u001b[0m     \u001b[39mif\u001b[39;00m idx \u001b[39m==\u001b[39m \u001b[39m'\u001b[39m\u001b[39mMASTER_v2022\u001b[39m\u001b[39m'\u001b[39m:              \n\u001b[1;32m---> 10\u001b[0m         \u001b[39mwith\u001b[39;00m \u001b[39mopen\u001b[39;49m(\u001b[39m'\u001b[39;49m\u001b[39m{}\u001b[39;49;00m\u001b[39m\\\u001b[39;49m\u001b[39mCompliSent\u001b[39;49m\u001b[39m\\\u001b[39;49m\u001b[39mlexicon_dictionary\u001b[39;49m\u001b[39m\\\u001b[39;49m\u001b[39mMASTER\u001b[39;49m\u001b[39m\\\u001b[39;49m\u001b[39mMASTER_v2022.pickle\u001b[39;49m\u001b[39m'\u001b[39;49m\u001b[39m.\u001b[39;49mformat(\u001b[39mself\u001b[39;49m\u001b[39m.\u001b[39;49mdirectory), \u001b[39m'\u001b[39;49m\u001b[39mrb\u001b[39;49m\u001b[39m'\u001b[39;49m) \u001b[39mas\u001b[39;00m handle: \n\u001b[0;32m     11\u001b[0m             lex_dict \u001b[39m=\u001b[39m pickle\u001b[39m.\u001b[39mload(handle)\n\u001b[0;32m     13\u001b[0m     \u001b[39mreturn\u001b[39;00m lex_dict\n",
      "\u001b[1;31mFileNotFoundError\u001b[0m: [Errno 2] No such file or directory: 'c:\\\\Users\\\\nicks\\\\Desktop\\\\socscikit\\\\CompliSent\\\\lexicon_dictionary\\\\MASTER\\\\MASTER_v2022.pickle'"
     ]
    }
   ],
   "source": [
    "lexicon = CompliSent.lexicon()\n",
    "lex_dict = lexicon.dictionary('MASTER_v2022')"
   ]
  },
  {
   "cell_type": "code",
   "execution_count": 8,
   "metadata": {},
   "outputs": [
    {
     "name": "stdout",
     "output_type": "stream",
     "text": [
      "c:\\Users\\nicks\\Desktop\\socscikit\n"
     ]
    }
   ],
   "source": [
    "import os \n",
    "\n",
    "print(os.getcwd())"
   ]
  },
  {
   "cell_type": "code",
   "execution_count": null,
   "metadata": {},
   "outputs": [],
   "source": []
  }
 ],
 "metadata": {
  "kernelspec": {
   "display_name": "base",
   "language": "python",
   "name": "python3"
  },
  "language_info": {
   "codemirror_mode": {
    "name": "ipython",
    "version": 3
   },
   "file_extension": ".py",
   "mimetype": "text/x-python",
   "name": "python",
   "nbconvert_exporter": "python",
   "pygments_lexer": "ipython3",
   "version": "3.9.12"
  },
  "orig_nbformat": 4
 },
 "nbformat": 4,
 "nbformat_minor": 2
}
